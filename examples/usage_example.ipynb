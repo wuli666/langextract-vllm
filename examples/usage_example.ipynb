{
 "cells": [
  {
   "cell_type": "code",
   "execution_count": null,
   "id": "0116dda1",
   "metadata": {},
   "outputs": [],
   "source": [
    "import os\n",
    "import textwrap\n",
    "from typing import cast\n",
    "os.environ[\"HF_ENDPOINT\"] = \"https://hf-mirror.com\"\n",
    "\n",
    "\n",
    "import langextract as lx\n",
    "from IPython.display import HTML\n",
    "from langextract.data import AnnotatedDocument\n"
   ]
  },
  {
   "cell_type": "code",
   "execution_count": null,
   "id": "1bdb140b",
   "metadata": {},
   "outputs": [],
   "source": [
    "# 1. Define the prompt and extraction rules\n",
    "prompt = textwrap.dedent(\"\"\"\\\n",
    "    Extract characters, emotions, and relationships in order of appearance.\n",
    "    Use exact text for extractions. Do not paraphrase or overlap entities.\n",
    "    Provide meaningful attributes for each entity to add context.\"\"\")\n",
    "\n",
    "# 2. Provide a high-quality example to guide the model\n",
    "examples = [\n",
    "    lx.data.ExampleData(\n",
    "        text=\"ROMEO. But soft! What light through yonder window breaks? It is the east, and Juliet is the sun.\",\n",
    "        extractions=[\n",
    "            lx.data.Extraction(\n",
    "                extraction_class=\"character\",\n",
    "                extraction_text=\"ROMEO\",\n",
    "                attributes={\"emotional_state\": \"wonder\"},\n",
    "            ),\n",
    "            lx.data.Extraction(\n",
    "                extraction_class=\"emotion\",\n",
    "                extraction_text=\"But soft!\",\n",
    "                attributes={\"feeling\": \"gentle awe\"},\n",
    "            ),\n",
    "            lx.data.Extraction(\n",
    "                extraction_class=\"relationship\",\n",
    "                extraction_text=\"Juliet is the sun\",\n",
    "                attributes={\"type\": \"metaphor\"},\n",
    "            ),\n",
    "        ],\n",
    "    )\n",
    "]"
   ]
  },
  {
   "cell_type": "code",
   "execution_count": null,
   "id": "e2e790dd",
   "metadata": {},
   "outputs": [],
   "source": [
    "# The input text to be processed\n",
    "from pickle import TRUE\n",
    "\n",
    "\n",
    "input_text = \"Lady Juliet gazed longingly at the stars, her heart aching for Romeo\"\n",
    "\n",
    "config = lx.factory.ModelConfig(\n",
    "    # model_id=\"vllm:microsoft/Phi-3-mini-4k-instruct\",\n",
    "    # model_id=\"vllm:Qwen/Qwen3-0.6B\",\n",
    "    model_id=\"vllm:Qwen/Qwen3-4B-Instruct-2507\",\n",
    "    # model_id=\"http://localhost:8000/v1\",\n",
    "    provider=\"VLLMLanguageModel\",\n",
    "    provider_kwargs=dict(\n",
    "        gpu_memory_utilization=0.5,\n",
    "        max_model_len=1024,\n",
    "        temperature=0.1,\n",
    "        max_tokens=1024,\n",
    "        # 其他vLLM参数\n",
    "        tensor_parallel_size = 1,\n",
    "        enforce_eager=True,\n",
    "        disable_custom_all_reduce=True,\n",
    "    ),\n",
    ")\n",
    "\n",
    "model = lx.factory.create_model(config)\n",
    "\n",
    "# 添加调试模式来查看模型输出\n",
    "result = lx.extract(\n",
    "    model=model,\n",
    "    text_or_documents=input_text,\n",
    "    prompt_description=prompt,\n",
    "    examples=examples,\n",
    "    fence_output=True,  # 启用fence输出，帮助模型生成更好的JSON\n",
    "    use_schema_constraints=True,\n",
    "    \n",
    ")"
   ]
  },
  {
   "cell_type": "code",
   "execution_count": null,
   "id": "89008a8a",
   "metadata": {},
   "outputs": [],
   "source": [
    "# result 已经是一个 AnnotatedDocument 对象，不需要索引访问\n",
    "result = cast(AnnotatedDocument, result)\n",
    "\n",
    "html_content = lx.visualize(result)\n",
    "html_content = cast(HTML, html_content)\n",
    "\n",
    "display(html_content)\n",
    "\n"
   ]
  }
 ],
 "metadata": {
  "kernelspec": {
   "display_name": "py311",
   "language": "python",
   "name": "python3"
  },
  "language_info": {
   "codemirror_mode": {
    "name": "ipython",
    "version": 3
   },
   "file_extension": ".py",
   "mimetype": "text/x-python",
   "name": "python",
   "nbconvert_exporter": "python",
   "pygments_lexer": "ipython3",
   "version": "3.11.13"
  }
 },
 "nbformat": 4,
 "nbformat_minor": 5
}
